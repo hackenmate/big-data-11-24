{
 "cells": [
  {
   "cell_type": "code",
   "execution_count": 1,
   "metadata": {
    "executionInfo": {
     "elapsed": 2386,
     "status": "ok",
     "timestamp": 1713459106035,
     "user": {
      "displayName": "Luis Fernando Solis Navarro",
      "userId": "12047414360120813726"
     },
     "user_tz": 180
    },
    "id": "G8urrTzmHqp1"
   },
   "outputs": [],
   "source": [
    "# to handle datasets\n",
    "import pandas as pd\n",
    "import numpy as np\n",
    "\n",
    "# for plotting\n",
    "import matplotlib.pyplot as plt\n",
    "\n",
    "# to build the models\n",
    "from sklearn.linear_model import Lasso\n",
    "from sklearn.feature_selection import SelectFromModel\n",
    "\n",
    "# to visualise al the columns in the dataframe\n",
    "pd.pandas.set_option('display.max_columns', None)"
   ]
  },
  {
   "cell_type": "code",
   "execution_count": 59,
   "metadata": {},
   "outputs": [],
   "source": [
    "import pandas as pd\n",
    "from sklearn.pipeline import Pipeline\n",
    "from sklearn.preprocessing import StandardScaler\n",
    "from sklearn.ensemble import RandomForestRegressor\n",
    "from sklearn.feature_selection import SelectFromModel\n",
    "from sklearn.metrics import mean_squared_error\n"
   ]
  },
  {
   "cell_type": "code",
   "execution_count": 64,
   "metadata": {},
   "outputs": [
    {
     "name": "stdout",
     "output_type": "stream",
     "text": [
      "Primeras filas de X_train:\n"
     ]
    },
    {
     "data": {
      "text/html": [
       "<div>\n",
       "<style scoped>\n",
       "    .dataframe tbody tr th:only-of-type {\n",
       "        vertical-align: middle;\n",
       "    }\n",
       "\n",
       "    .dataframe tbody tr th {\n",
       "        vertical-align: top;\n",
       "    }\n",
       "\n",
       "    .dataframe thead th {\n",
       "        text-align: right;\n",
       "    }\n",
       "</style>\n",
       "<table border=\"1\" class=\"dataframe\">\n",
       "  <thead>\n",
       "    <tr style=\"text-align: right;\">\n",
       "      <th></th>\n",
       "      <th>model</th>\n",
       "      <th>year</th>\n",
       "      <th>motor_type</th>\n",
       "      <th>running</th>\n",
       "      <th>color</th>\n",
       "      <th>type</th>\n",
       "      <th>status</th>\n",
       "      <th>motor_volume</th>\n",
       "      <th>price</th>\n",
       "    </tr>\n",
       "  </thead>\n",
       "  <tbody>\n",
       "    <tr>\n",
       "      <th>0</th>\n",
       "      <td>0</td>\n",
       "      <td>0.636889</td>\n",
       "      <td>3</td>\n",
       "      <td>-0.600139</td>\n",
       "      <td>1</td>\n",
       "      <td>1.0</td>\n",
       "      <td>3.0</td>\n",
       "      <td>-0.138416</td>\n",
       "      <td>-0.011519</td>\n",
       "    </tr>\n",
       "    <tr>\n",
       "      <th>1</th>\n",
       "      <td>0</td>\n",
       "      <td>-0.274194</td>\n",
       "      <td>3</td>\n",
       "      <td>1.096762</td>\n",
       "      <td>14</td>\n",
       "      <td>1.0</td>\n",
       "      <td>2.0</td>\n",
       "      <td>-0.138416</td>\n",
       "      <td>-0.973339</td>\n",
       "    </tr>\n",
       "    <tr>\n",
       "      <th>2</th>\n",
       "      <td>1</td>\n",
       "      <td>0.788736</td>\n",
       "      <td>3</td>\n",
       "      <td>-0.683320</td>\n",
       "      <td>2</td>\n",
       "      <td>1.0</td>\n",
       "      <td>3.0</td>\n",
       "      <td>-0.138416</td>\n",
       "      <td>0.350906</td>\n",
       "    </tr>\n",
       "    <tr>\n",
       "      <th>3</th>\n",
       "      <td>0</td>\n",
       "      <td>0.333195</td>\n",
       "      <td>3</td>\n",
       "      <td>-0.488030</td>\n",
       "      <td>2</td>\n",
       "      <td>1.0</td>\n",
       "      <td>3.0</td>\n",
       "      <td>-0.138416</td>\n",
       "      <td>-0.290307</td>\n",
       "    </tr>\n",
       "    <tr>\n",
       "      <th>4</th>\n",
       "      <td>0</td>\n",
       "      <td>0.788736</td>\n",
       "      <td>1</td>\n",
       "      <td>-1.077258</td>\n",
       "      <td>7</td>\n",
       "      <td>1.0</td>\n",
       "      <td>3.0</td>\n",
       "      <td>-0.138416</td>\n",
       "      <td>0.072118</td>\n",
       "    </tr>\n",
       "  </tbody>\n",
       "</table>\n",
       "</div>"
      ],
      "text/plain": [
       "   model      year  motor_type   running  color  type  status  motor_volume  \\\n",
       "0      0  0.636889           3 -0.600139      1   1.0     3.0     -0.138416   \n",
       "1      0 -0.274194           3  1.096762     14   1.0     2.0     -0.138416   \n",
       "2      1  0.788736           3 -0.683320      2   1.0     3.0     -0.138416   \n",
       "3      0  0.333195           3 -0.488030      2   1.0     3.0     -0.138416   \n",
       "4      0  0.788736           1 -1.077258      7   1.0     3.0     -0.138416   \n",
       "\n",
       "      price  \n",
       "0 -0.011519  \n",
       "1 -0.973339  \n",
       "2  0.350906  \n",
       "3 -0.290307  \n",
       "4  0.072118  "
      ]
     },
     "metadata": {},
     "output_type": "display_data"
    },
    {
     "name": "stdout",
     "output_type": "stream",
     "text": [
      "\n",
      "Primeras filas de X_test:\n"
     ]
    },
    {
     "data": {
      "text/html": [
       "<div>\n",
       "<style scoped>\n",
       "    .dataframe tbody tr th:only-of-type {\n",
       "        vertical-align: middle;\n",
       "    }\n",
       "\n",
       "    .dataframe tbody tr th {\n",
       "        vertical-align: top;\n",
       "    }\n",
       "\n",
       "    .dataframe thead th {\n",
       "        text-align: right;\n",
       "    }\n",
       "</style>\n",
       "<table border=\"1\" class=\"dataframe\">\n",
       "  <thead>\n",
       "    <tr style=\"text-align: right;\">\n",
       "      <th></th>\n",
       "      <th>model</th>\n",
       "      <th>year</th>\n",
       "      <th>motor_type</th>\n",
       "      <th>running</th>\n",
       "      <th>color</th>\n",
       "      <th>type</th>\n",
       "      <th>status</th>\n",
       "      <th>motor_volume</th>\n",
       "      <th>price</th>\n",
       "    </tr>\n",
       "  </thead>\n",
       "  <tbody>\n",
       "    <tr>\n",
       "      <th>0</th>\n",
       "      <td>2</td>\n",
       "      <td>-3.007444</td>\n",
       "      <td>3</td>\n",
       "      <td>2.745839</td>\n",
       "      <td>4</td>\n",
       "      <td>1.0</td>\n",
       "      <td>2.0</td>\n",
       "      <td>-0.138416</td>\n",
       "      <td>-1.781825</td>\n",
       "    </tr>\n",
       "    <tr>\n",
       "      <th>1</th>\n",
       "      <td>4</td>\n",
       "      <td>1.092431</td>\n",
       "      <td>3</td>\n",
       "      <td>-0.833047</td>\n",
       "      <td>10</td>\n",
       "      <td>4.0</td>\n",
       "      <td>3.0</td>\n",
       "      <td>-0.138416</td>\n",
       "      <td>1.953940</td>\n",
       "    </tr>\n",
       "    <tr>\n",
       "      <th>2</th>\n",
       "      <td>2</td>\n",
       "      <td>0.333195</td>\n",
       "      <td>3</td>\n",
       "      <td>-0.093588</td>\n",
       "      <td>2</td>\n",
       "      <td>1.0</td>\n",
       "      <td>3.0</td>\n",
       "      <td>-0.138416</td>\n",
       "      <td>2.372122</td>\n",
       "    </tr>\n",
       "    <tr>\n",
       "      <th>3</th>\n",
       "      <td>2</td>\n",
       "      <td>0.333195</td>\n",
       "      <td>3</td>\n",
       "      <td>-0.426006</td>\n",
       "      <td>1</td>\n",
       "      <td>1.0</td>\n",
       "      <td>3.0</td>\n",
       "      <td>-0.138416</td>\n",
       "      <td>1.535757</td>\n",
       "    </tr>\n",
       "    <tr>\n",
       "      <th>4</th>\n",
       "      <td>2</td>\n",
       "      <td>-2.096361</td>\n",
       "      <td>3</td>\n",
       "      <td>0.452667</td>\n",
       "      <td>2</td>\n",
       "      <td>1.0</td>\n",
       "      <td>2.0</td>\n",
       "      <td>1.442659</td>\n",
       "      <td>-1.293945</td>\n",
       "    </tr>\n",
       "  </tbody>\n",
       "</table>\n",
       "</div>"
      ],
      "text/plain": [
       "   model      year  motor_type   running  color  type  status  motor_volume  \\\n",
       "0      2 -3.007444           3  2.745839      4   1.0     2.0     -0.138416   \n",
       "1      4  1.092431           3 -0.833047     10   4.0     3.0     -0.138416   \n",
       "2      2  0.333195           3 -0.093588      2   1.0     3.0     -0.138416   \n",
       "3      2  0.333195           3 -0.426006      1   1.0     3.0     -0.138416   \n",
       "4      2 -2.096361           3  0.452667      2   1.0     2.0      1.442659   \n",
       "\n",
       "      price  \n",
       "0 -1.781825  \n",
       "1  1.953940  \n",
       "2  2.372122  \n",
       "3  1.535757  \n",
       "4 -1.293945  "
      ]
     },
     "metadata": {},
     "output_type": "display_data"
    },
    {
     "name": "stdout",
     "output_type": "stream",
     "text": [
      "\n",
      "Información de X_train:\n",
      "<class 'pandas.core.frame.DataFrame'>\n",
      "RangeIndex: 1313 entries, 0 to 1312\n",
      "Data columns (total 9 columns):\n",
      " #   Column        Non-Null Count  Dtype  \n",
      "---  ------        --------------  -----  \n",
      " 0   model         1313 non-null   int64  \n",
      " 1   year          1313 non-null   float64\n",
      " 2   motor_type    1313 non-null   int64  \n",
      " 3   running       1313 non-null   float64\n",
      " 4   color         1313 non-null   int64  \n",
      " 5   type          1270 non-null   float64\n",
      " 6   status        1228 non-null   float64\n",
      " 7   motor_volume  1313 non-null   float64\n",
      " 8   price         1313 non-null   float64\n",
      "dtypes: float64(6), int64(3)\n",
      "memory usage: 92.4 KB\n",
      "None\n",
      "\n",
      "Información de X_test:\n",
      "<class 'pandas.core.frame.DataFrame'>\n",
      "RangeIndex: 329 entries, 0 to 328\n",
      "Data columns (total 9 columns):\n",
      " #   Column        Non-Null Count  Dtype  \n",
      "---  ------        --------------  -----  \n",
      " 0   model         329 non-null    int64  \n",
      " 1   year          329 non-null    float64\n",
      " 2   motor_type    329 non-null    int64  \n",
      " 3   running       329 non-null    float64\n",
      " 4   color         329 non-null    int64  \n",
      " 5   type          323 non-null    float64\n",
      " 6   status        306 non-null    float64\n",
      " 7   motor_volume  329 non-null    float64\n",
      " 8   price         329 non-null    float64\n",
      "dtypes: float64(6), int64(3)\n",
      "memory usage: 23.3 KB\n",
      "None\n"
     ]
    }
   ],
   "source": [
    "import pandas as pd\n",
    "\n",
    "# Cargar los datos\n",
    "X_train = pd.read_csv('./output/train_feature_engineered.csv')\n",
    "X_test = pd.read_csv('./output/test_feature_engineered.csv')\n",
    "\n",
    "# Mostrar las primeras filas de cada archivo\n",
    "print(\"Primeras filas de X_train:\")\n",
    "display(X_train.head())\n",
    "\n",
    "print(\"\\nPrimeras filas de X_test:\")\n",
    "display(X_test.head())\n",
    "\n",
    "# Opcionalmente, mostrar información general de las columnas y tipos de datos\n",
    "print(\"\\nInformación de X_train:\")\n",
    "print(X_train.info())\n",
    "\n",
    "print(\"\\nInformación de X_test:\")\n",
    "print(X_test.info())\n"
   ]
  },
  {
   "cell_type": "code",
   "execution_count": 65,
   "metadata": {},
   "outputs": [
    {
     "name": "stdout",
     "output_type": "stream",
     "text": [
      "model           0\n",
      "year            0\n",
      "motor_type      0\n",
      "running         0\n",
      "color           0\n",
      "type            0\n",
      "status          0\n",
      "motor_volume    0\n",
      "price           0\n",
      "dtype: int64\n",
      "model           0\n",
      "year            0\n",
      "motor_type      0\n",
      "running         0\n",
      "color           0\n",
      "type            0\n",
      "status          0\n",
      "motor_volume    0\n",
      "price           0\n",
      "dtype: int64\n"
     ]
    }
   ],
   "source": [
    "from sklearn.impute import SimpleImputer\n",
    "from sklearn.pipeline import Pipeline\n",
    "\n",
    "# Crear imputadores para las columnas categóricas y numéricas\n",
    "categorical_imputer = SimpleImputer(strategy='most_frequent')  # Moda para columnas categóricas\n",
    "numerical_imputer = SimpleImputer(strategy='mean')            # Media para columnas numéricas\n",
    "\n",
    "# Identificar las columnas con valores nulos\n",
    "categorical_cols = ['type', 'status']  # Ambas se pueden tratar como categóricas\n",
    "numerical_cols = []  # Ninguna columna numérica parece tener valores nulos\n",
    "\n",
    "# Crear un pipeline para imputación\n",
    "imputation_pipeline = Pipeline([\n",
    "    ('categorical_imputer', SimpleImputer(strategy='most_frequent')),\n",
    "])\n",
    "\n",
    "# Imputar valores nulos en las columnas categóricas\n",
    "X_train[categorical_cols] = categorical_imputer.fit_transform(X_train[categorical_cols])\n",
    "X_test[categorical_cols] = categorical_imputer.transform(X_test[categorical_cols])\n",
    "\n",
    "# Si hubiese columnas numéricas con valores nulos, se imputarían así:\n",
    "# X_train[numerical_cols] = numerical_imputer.fit_transform(X_train[numerical_cols])\n",
    "# X_test[numerical_cols] = numerical_imputer.transform(X_test[numerical_cols])\n",
    "\n",
    "# Verificar si quedan valores nulos\n",
    "print(X_train.isnull().sum())\n",
    "print(X_test.isnull().sum())\n"
   ]
  },
  {
   "cell_type": "markdown",
   "metadata": {
    "id": "DIOqDCWYHqp2"
   },
   "source": [
    "### Feature Selection\n",
    "\n",
    "Vamos a seleccionar un subconjunto de las características más predictivas. Hay un elemento de aleatoriedad en la regresión Lasso, así que recuerda establecer la semilla."
   ]
  },
  {
   "cell_type": "markdown",
   "metadata": {},
   "source": [
    "Cantidad de Características seleccionadas:"
   ]
  },
  {
   "cell_type": "code",
   "execution_count": 66,
   "metadata": {},
   "outputs": [],
   "source": [
    "X_train = pd.read_csv('./output/train_feature_engineered.csv')\n",
    "X_test = pd.read_csv('./output/test_feature_engineered.csv')\n"
   ]
  },
  {
   "cell_type": "code",
   "execution_count": 67,
   "metadata": {},
   "outputs": [],
   "source": [
    "X_train = X_train.drop('Unnamed: 0', axis=1, errors='ignore')\n",
    "X_test = X_test.drop('Unnamed: 0', axis=1, errors='ignore')"
   ]
  },
  {
   "cell_type": "code",
   "execution_count": 68,
   "metadata": {},
   "outputs": [],
   "source": [
    "pipeline = Pipeline([\n",
    "    ('scaler', StandardScaler()),  # Escalado de variables numéricas\n",
    "    ('feature_selection', SelectFromModel(RandomForestRegressor(n_estimators=100, random_state=42))),\n",
    "    ('model', RandomForestRegressor(n_estimators=100, random_state=42))\n",
    "])"
   ]
  },
  {
   "cell_type": "code",
   "execution_count": 73,
   "metadata": {},
   "outputs": [
    {
     "name": "stdout",
     "output_type": "stream",
     "text": [
      "Pipeline(steps=[('scaler', StandardScaler()),\n",
      "                ('feature_selection',\n",
      "                 SelectFromModel(estimator=RandomForestRegressor(random_state=42))),\n",
      "                ('model', RandomForestRegressor(random_state=42))])\n"
     ]
    }
   ],
   "source": [
    "print(pipeline)"
   ]
  },
  {
   "cell_type": "code",
   "execution_count": 74,
   "metadata": {},
   "outputs": [],
   "source": [
    "# Cargar los datos procesados\n",
    "X_train = pd.read_csv('./output/train_feature_engineered.csv')\n",
    "X_test = pd.read_csv('./output/test_feature_engineered.csv')\n",
    "\n",
    "# Separar la variable objetivo 'price' de las características\n",
    "y_train = X_train['price']  # La variable objetivo\n",
    "X_train = X_train.drop('price', axis=1)  # Eliminar la variable objetivo del conjunto de características\n",
    "\n",
    "# En caso de que haya alguna columna innecesaria en X_test, también la debes ajustar:\n",
    "y_test = X_test['price']\n",
    "X_test = X_test.drop('price', axis=1)\n"
   ]
  },
  {
   "cell_type": "code",
   "execution_count": 75,
   "metadata": {},
   "outputs": [
    {
     "name": "stdout",
     "output_type": "stream",
     "text": [
      "Mean Squared Error: 0.2535662876076494\n"
     ]
    }
   ],
   "source": [
    "from sklearn.ensemble import RandomForestRegressor\n",
    "from sklearn.preprocessing import StandardScaler\n",
    "from sklearn.feature_selection import SelectFromModel\n",
    "from sklearn.pipeline import Pipeline\n",
    "\n",
    "# Definir el modelo de Random Forest\n",
    "rf = RandomForestRegressor(n_estimators=100, random_state=42)\n",
    "\n",
    "# Configurar el pipeline\n",
    "pipeline = Pipeline([\n",
    "    ('scaler', StandardScaler()),  # Escalado de variables numéricas\n",
    "    ('feature_selection', SelectFromModel(rf, threshold=\"mean\")),  # Selección de características\n",
    "    ('model', rf)  # El modelo de Random Forest\n",
    "])\n",
    "\n",
    "# Entrenar el pipeline\n",
    "pipeline.fit(X_train, y_train)\n",
    "\n",
    "# Evaluar el modelo\n",
    "y_pred = pipeline.predict(X_test)\n",
    "\n",
    "# Calcular y mostrar el rendimiento (ejemplo usando el error cuadrático medio)\n",
    "from sklearn.metrics import mean_squared_error\n",
    "mse = mean_squared_error(y_test, y_pred)\n",
    "print(f'Mean Squared Error: {mse}')\n"
   ]
  },
  {
   "cell_type": "code",
   "execution_count": 78,
   "metadata": {},
   "outputs": [
    {
     "data": {
      "image/png": "[encoded data removed]",
      "text/plain": [
       "<Figure size 640x480 with 1 Axes>"
      ]
     },
     "metadata": {},
     "output_type": "display_data"
    }
   ],
   "source": [
    "import matplotlib.pyplot as plt\n",
    "plt.scatter(y_test, y_pred - y_test)\n",
    "plt.hlines(y=0, xmin=min(y_test), xmax=max(y_test), colors='r', linestyles='dashed')\n",
    "plt.title('Residuals Plot')\n",
    "plt.xlabel('True Values')\n",
    "plt.ylabel('Residuals')\n",
    "plt.show()\n"
   ]
  },
  {
   "cell_type": "code",
   "execution_count": 79,
   "metadata": {},
   "outputs": [
    {
     "name": "stdout",
     "output_type": "stream",
     "text": [
      "Mean CV Score: 0.2848360761869283\n"
     ]
    }
   ],
   "source": [
    "from sklearn.model_selection import cross_val_score\n",
    "\n",
    "# Evaluar el modelo con cross-validation\n",
    "cv_scores = cross_val_score(pipeline, X_train, y_train, cv=5, scoring='neg_mean_squared_error')\n",
    "print(f'Mean CV Score: {-cv_scores.mean()}')\n"
   ]
  },
  {
   "cell_type": "code",
   "execution_count": 80,
   "metadata": {},
   "outputs": [
    {
     "name": "stdout",
     "output_type": "stream",
     "text": [
      "Best parameters: {'model__max_depth': 10, 'model__min_samples_split': 10, 'model__n_estimators': 200}\n",
      "Best cross-validation score: 0.2684857216062303\n"
     ]
    }
   ],
   "source": [
    "from sklearn.model_selection import GridSearchCV\n",
    "\n",
    "param_grid = {\n",
    "    'model__n_estimators': [50, 100, 200],\n",
    "    'model__max_depth': [5, 10, 20, None],\n",
    "    'model__min_samples_split': [2, 5, 10]\n",
    "}\n",
    "\n",
    "grid_search = GridSearchCV(pipeline, param_grid, cv=5, scoring='neg_mean_squared_error')\n",
    "grid_search.fit(X_train, y_train)\n",
    "print(f'Best parameters: {grid_search.best_params_}')\n",
    "print(f'Best cross-validation score: {-grid_search.best_score_}')\n"
   ]
  }
 ],
 "metadata": {
  "colab": {
   "provenance": []
  },
  "kernelspec": {
   "display_name": "base",
   "language": "python",
   "name": "python3"
  },
  "language_info": {
   "codemirror_mode": {
    "name": "ipython",
    "version": 3
   },
   "file_extension": ".py",
   "mimetype": "text/x-python",
   "name": "python",
   "nbconvert_exporter": "python",
   "pygments_lexer": "ipython3",
   "version": "3.12.4"
  },
  "toc": {
   "base_numbering": 1,
   "nav_menu": {},
   "number_sections": true,
   "sideBar": true,
   "skip_h1_title": false,
   "title_cell": "Table of Contents",
   "title_sidebar": "Contents",
   "toc_cell": false,
   "toc_position": {
    "height": "583px",
    "left": "0px",
    "right": "1324px",
    "top": "107px",
    "width": "212px"
   },
   "toc_section_display": "block",
   "toc_window_display": true
  }
 },
 "nbformat": 4,
 "nbformat_minor": 0
}
